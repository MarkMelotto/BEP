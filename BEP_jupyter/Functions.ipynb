{
 "cells": [
  {
   "cell_type": "markdown",
   "metadata": {},
   "source": [
    "# BEP Functions"
   ]
  },
  {
   "cell_type": "markdown",
   "metadata": {},
   "source": [
    "This is where I keep all the functions for reading out the data.  \n",
    "I also have the functions that I use for calculations below, there might be a function in here that isn't used, then I overlooked it."
   ]
  },
  {
   "cell_type": "markdown",
   "metadata": {},
   "source": [
    "This function reads out the data that I stored for my measurements"
   ]
  },
  {
   "cell_type": "code",
   "execution_count": 1,
   "metadata": {},
   "outputs": [],
   "source": [
    "# function to read the data out of my stored data\n",
    "def test_data_reader(test):\n",
    "    resistor = 0\n",
    "    distance_lamp_to_box = 0\n",
    "    distance_box_to_detector = 0\n",
    "    start_test = 0\n",
    "    humidity = []\n",
    "    dark_voltage = []\n",
    "    light_voltage = []\n",
    "    temperature = []\n",
    "    voltage_gain = []\n",
    "\n",
    "    for k, v in test.items():\n",
    "        if k == \"system_data\":\n",
    "            resistor = v[0]\n",
    "            distance_lamp_to_box = v[1]\n",
    "            distance_box_to_detector = v[2]\n",
    "            start_test = v[3]\n",
    "        else:\n",
    "            actual_voltage = v[1] - v[0]\n",
    "            humidity.append(k)\n",
    "            dark_voltage.append(v[0])\n",
    "            light_voltage.append(v[1])\n",
    "            temperature.append(v[2])\n",
    "            voltage_gain.append(actual_voltage)\n",
    "\n",
    "    return resistor, distance_lamp_to_box, distance_box_to_detector, start_test, \\\n",
    "            humidity, dark_voltage, light_voltage, temperature, voltage_gain"
   ]
  },
  {
   "cell_type": "markdown",
   "metadata": {},
   "source": [
    "A function that I made for adding a hue option to a plot.\n",
    "I took the minimum and maximum from the 3 data sets manually."
   ]
  },
  {
   "cell_type": "code",
   "execution_count": 2,
   "metadata": {},
   "outputs": [],
   "source": [
    "# function to make nice colors for the plot\n",
    "def color_magic(temp):\n",
    "    min_temp = 21.4\n",
    "    max_temp = 23.2\n",
    "    difference = max_temp - min_temp\n",
    "\n",
    "    some_dict = dict()\n",
    "    color = []\n",
    "\n",
    "    for T in temp:\n",
    "        red_color = (T - min_temp) / difference\n",
    "        # RGB = [red_color,red_color/1.5,0.545]\n",
    "        RGB = [red_color, 0, red_color / 3]\n",
    "        some_dict[T] = RGB\n",
    "        color.append(RGB)\n",
    "\n",
    "    return some_dict, color"
   ]
  },
  {
   "cell_type": "markdown",
   "metadata": {},
   "source": [
    "## Math functions"
   ]
  },
  {
   "cell_type": "markdown",
   "metadata": {},
   "source": [
    "Now follows the functions that I use for the simulations\n",
    "\n",
    "We start with some basic functions and importing numpy"
   ]
  },
  {
   "cell_type": "code",
   "execution_count": 3,
   "metadata": {},
   "outputs": [],
   "source": [
    "import numpy as np"
   ]
  },
  {
   "cell_type": "markdown",
   "metadata": {},
   "source": [
    "measure intensity: $I = I_0 * exp(-\\mu_{\\lambda} * x)$  \n",
    "where $I$ stands for the intensity measured, $I_0$ the starting intensity, $\\mu_{\\lambda}$ is the attenuation coefficient (in this experiment it is made up of the concentration of water in the air times the attenuation coefficient of water: $c_{H_2 O}*\\alpha_{H_2O}$) and $x$ is the path length."
   ]
  },
  {
   "cell_type": "code",
   "execution_count": 4,
   "metadata": {},
   "outputs": [],
   "source": [
    "# function to measure the intensity left over after a certain path length\n",
    "def measure_intensity(start_intensity, atten_coef, length):\n",
    "    return start_intensity * np.exp(-atten_coef * length)"
   ]
  },
  {
   "cell_type": "markdown",
   "metadata": {},
   "source": [
    "#### water percentage in the air\n",
    "\n",
    "I have 2 functions here that calculate the water saturation of air and the air density, depending on the temperature. They are fits from data I found online. Then the function calculate_maximum_percentage_water, uses the previous 2 functions to calculate what the maximum percentage of water in the air can be at temperature T."
   ]
  },
  {
   "cell_type": "code",
   "execution_count": 5,
   "metadata": {},
   "outputs": [],
   "source": [
    "# returns water saturation at g/m3\n",
    "def calculate_water_saturation(T):\n",
    "    return np.exp(1.56065404) * np.exp(6.90219321e-02 * T) * np.exp(-2.38543241e-04 * T ** 2)\n",
    "\n",
    "# returns air density at kg/m3\n",
    "def calculate_air_density(T):\n",
    "    return 1.44685243e-05 * T ** 2 - 4.72481940e-03 * T + 1.29255728\n",
    "\n",
    "# returns decimal percentage of the max percentage water in the air at certain temperature T\n",
    "# accurate between -20 and 60 C\n",
    "def calculate_maximum_percentage_water(T):\n",
    "    water_saturation = calculate_water_saturation(T)  # g/m3\n",
    "    air_density = calculate_air_density(T)  # kg/m3\n",
    "\n",
    "    max_percentage = (water_saturation / (air_density * 1000))  # decimal percentage\n",
    "\n",
    "    return max_percentage\n"
   ]
  },
  {
   "cell_type": "markdown",
   "metadata": {},
   "source": [
    "#### arrays\n",
    "\n",
    "lists for the 2D plots, just some weird functions"
   ]
  },
  {
   "cell_type": "code",
   "execution_count": 6,
   "metadata": {},
   "outputs": [],
   "source": [
    "def make_2d_humidity_array(x=101, y=101):\n",
    "    humidity = np.zeros((x,y))\n",
    "    for i in range(x):\n",
    "        for j in range(y):\n",
    "            humidity[i,j] = j\n",
    "\n",
    "    return humidity\n",
    "\n",
    "# this function has to be square\n",
    "def make_2d_path_length_array(x=101, y=101):\n",
    "    path_length = np.zeros((x,y))\n",
    "    for i in range(x):\n",
    "        for j in range(y):\n",
    "            path_length[i,j] = i/(y-1)\n",
    "\n",
    "    return path_length\n",
    "\n",
    "def make_2d_decimal_array(length_path):\n",
    "    number_of_decimals = 3\n",
    "    decimal_list = np.zeros((length_path,number_of_decimals))\n",
    "    for i in range(length_path):\n",
    "        for j in range(number_of_decimals):\n",
    "            decimal_list[i,j] = j+3\n",
    "\n",
    "    return decimal_list"
   ]
  },
  {
   "cell_type": "markdown",
   "metadata": {},
   "source": [
    "#### Photodetector\n",
    "\n",
    "This function returns the current when given the intensity that lands on the sensor."
   ]
  },
  {
   "cell_type": "code",
   "execution_count": 7,
   "metadata": {},
   "outputs": [],
   "source": [
    "# returns ampere for given intensity (mW/cm2) that the photodiode receives\n",
    "def photodetector_1(intensity):\n",
    "    return 37*intensity * 1e-6"
   ]
  },
  {
   "cell_type": "markdown",
   "metadata": {},
   "source": [
    "Now the functions for the wikipedia data sets.  \n",
    "\n",
    "**WIKI_absorption_coefficient_air_composition_max_humidity_at_T** calculates the maximum attenuation factor for the given temperature.  \n",
    "\n",
    "**WIKI_find_humidity_from_intensity_at_T** this function das a backwards calculation, to find the humidity. $$c_{H_2 O} = \\frac{\\ln{I_{0}} - \\ln{I}}{\\alpha_{H_2O} x}$$ Where $c_{H_2 O}$ is the concentration of water, $I$ is the measured intensity, $I_0$ is the starting intensity or unattenuated intensity, $\\alpha_{H_2O}$ is the attenuation factor of water and $x$ is the path length. After this we take the maximum concentration of water at T and make a percentage out of it.\n",
    "\n",
    "**WIKI_find_intensity_loss** finds the intensity loss. It calculates the maximum concentration of water at T then just makes it into an attenuation coefficient and returns the intensity."
   ]
  },
  {
   "cell_type": "code",
   "execution_count": 8,
   "metadata": {},
   "outputs": [],
   "source": [
    "# now calculate absorption coefficient with the temperature\n",
    "def WIKI_absorption_coefficient_air_composition_max_humidity_at_T(mu_H20, T):\n",
    "\n",
    "    high_H2O = calculate_maximum_percentage_water(T)\n",
    "    max_attenuation = mu_H20 * high_H2O\n",
    "    return max_attenuation\n",
    "\n",
    "\n",
    "def WIKI_find_humidity_from_intensity_at_T(start_intensity, received_intensity, path_length, mu_H2O, T):\n",
    "\n",
    "    concentration_H2O = -((np.log(received_intensity / start_intensity)) / path_length) / mu_H2O\n",
    "    \n",
    "    max_concentration = calculate_maximum_percentage_water(T)\n",
    "    percentage_humidity = (concentration_H2O / max_concentration) * 100\n",
    "\n",
    "    return percentage_humidity\n",
    "\n",
    "def WIKI_find_intensity_loss(start_intensity, path_length, mu_H2O, humidity, T):\n",
    "\n",
    "    humidity = humidity/100\n",
    "\n",
    "    max_percentage_water = calculate_maximum_percentage_water(T)\n",
    "    attenuation_coefficient = mu_H2O*humidity*max_percentage_water\n",
    "    intensity = measure_intensity(start_intensity, attenuation_coefficient, path_length)\n",
    "    return intensity\n"
   ]
  }
 ],
 "metadata": {
  "kernelspec": {
   "display_name": "Python 3",
   "language": "python",
   "name": "python3"
  },
  "language_info": {
   "codemirror_mode": {
    "name": "ipython",
    "version": 3
   },
   "file_extension": ".py",
   "mimetype": "text/x-python",
   "name": "python",
   "nbconvert_exporter": "python",
   "pygments_lexer": "ipython3",
   "version": "3.6.6"
  },
  "latex_envs": {
   "LaTeX_envs_menu_present": true,
   "autoclose": false,
   "autocomplete": true,
   "bibliofile": "biblio.bib",
   "cite_by": "apalike",
   "current_citInitial": 1,
   "eqLabelWithNumbers": true,
   "eqNumInitial": 1,
   "hotkeys": {
    "equation": "Ctrl-E",
    "itemize": "Ctrl-I"
   },
   "labels_anchors": false,
   "latex_user_defs": false,
   "report_style_numbering": false,
   "user_envs_cfg": false
  }
 },
 "nbformat": 4,
 "nbformat_minor": 4
}
