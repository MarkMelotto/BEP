{
 "cells": [
  {
   "cell_type": "markdown",
   "metadata": {},
   "source": [
    "Hi,\n",
    "\n",
    "This is where I keep all the data that I got from my tests."
   ]
  },
  {
   "cell_type": "markdown",
   "metadata": {},
   "source": [
    "data is presented as:\n",
    "first thing: system data:[resistor, distance lamp to box, distance box to detector, time of day]\n",
    "then it gives humidity:[light off current, light on current, temperature]"
   ]
  },
  {
   "cell_type": "code",
   "execution_count": 4,
   "metadata": {},
   "outputs": [],
   "source": [
    "test_1 = {\n",
    "    'system_data':[3.03e6, 1, 27, '10:45'],\n",
    "    48:[127,1940,21.4],\n",
    "    51:[127,1939,21.4],\n",
    "    54:[126,1942,21.7],\n",
    "    59:[119,1931,22],\n",
    "    61:[120,1927,22.2],\n",
    "    64:[119,1924,22.5],\n",
    "    65:[119,1922,22.6],\n",
    "    67:[121,1923,22.7],\n",
    "    68:[136,1936,22.8],\n",
    "    70:[143,1944,22.8],\n",
    "    71:[136,1935,22.9],\n",
    "    72:[138,1936,22.9]\n",
    "}\n",
    "\n",
    "\n",
    "test_2 = {\n",
    "    'system_data':[3.03e6, 3, 27, '14:30'],\n",
    "    45:[165,1800,22.1],\n",
    "    48:[170,1790,22.1],\n",
    "    50:[164,1772,22.3],\n",
    "    54:[200,1792,22.7],\n",
    "    58:[172,1767,22.8],\n",
    "    61:[161,1750,22.9],\n",
    "    64:[144,1730,23],\n",
    "    66:[119,1709,23],\n",
    "    68:[108,1697,23],\n",
    "    70:[104,1695,23.1],\n",
    "    71:[72,1663,23.2],\n",
    "    72:[54,1643,23.2]\n",
    "}\n",
    "\n",
    "test_3 = {\n",
    "    'system_data':[23.6e3, 0.5, 27, '16:04'],\n",
    "    39:[33,671,22.3],\n",
    "    42:[31,669,22.5],\n",
    "    47:[32,668,22.6],\n",
    "    54:[28,661,22.6],\n",
    "    59:[22,656,22.7],\n",
    "    63:[20,653,22.8],\n",
    "    66:[17,650,22.8],\n",
    "    68:[15,648,22.9],\n",
    "    70:[15,645,22.9],\n",
    "    72:[15,645,22.9],\n",
    "    73:[15,644,22.9],\n",
    "    75:[15,644,23]\n",
    "}"
   ]
  },
  {
   "cell_type": "markdown",
   "metadata": {},
   "source": [
    "Now the parameters and data that I use.\n",
    "\n",
    "It is taken from: https://en.wikipedia.org/wiki/Electromagnetic_absorption_by_water\n",
    "Which in turn is taken from HITran"
   ]
  },
  {
   "cell_type": "code",
   "execution_count": null,
   "metadata": {},
   "outputs": [],
   "source": [
    "'''DATA wikipedia in 1/m'''\n",
    "\n",
    "def WIKI_get_absorption_coeff_water():\n",
    "    return {718e-9:1, 810e-9:1.5, 940e-9:20, 980e-9:10, 1.15e-6:100, 1.38e-6:30, 1.88e-6:900, 2.68e-6:8000, 6.3e-6:15000}\n",
    "\n",
    "def WIKI_available_wavelengths():\n",
    "    return [718e-9, 810e-9, 940e-9, 980e-9, 1.15e-6, 1.38e-6, 1.88e-6, 2.68e-6, 6.3e-6]\n",
    "\n",
    "def WIKI_get_workable_absorption_coeff_water():\n",
    "    return {718e-9:1, 810e-9:1.5, 940e-9:20, 980e-9:10, 1.15e-6:100, 1.38e-6:30}\n",
    "\n",
    "def WIKI_workable_available_wavelengths():\n",
    "    return [718e-9, 810e-9, 940e-9, 980e-9, 1.15e-6, 1.38e-6]"
   ]
  }
 ],
 "metadata": {
  "kernelspec": {
   "display_name": "Python 3",
   "language": "python",
   "name": "python3"
  },
  "language_info": {
   "codemirror_mode": {
    "name": "ipython",
    "version": 3
   },
   "file_extension": ".py",
   "mimetype": "text/x-python",
   "name": "python",
   "nbconvert_exporter": "python",
   "pygments_lexer": "ipython3",
   "version": "3.6.6"
  },
  "latex_envs": {
   "LaTeX_envs_menu_present": true,
   "autoclose": false,
   "autocomplete": true,
   "bibliofile": "biblio.bib",
   "cite_by": "apalike",
   "current_citInitial": 1,
   "eqLabelWithNumbers": true,
   "eqNumInitial": 1,
   "hotkeys": {
    "equation": "Ctrl-E",
    "itemize": "Ctrl-I"
   },
   "labels_anchors": false,
   "latex_user_defs": false,
   "report_style_numbering": false,
   "user_envs_cfg": false
  }
 },
 "nbformat": 4,
 "nbformat_minor": 4
}
